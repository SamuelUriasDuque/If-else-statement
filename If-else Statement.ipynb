{
 "cells": [
  {
   "cell_type": "markdown",
   "metadata": {},
   "source": [
    "# If Statement"
   ]
  },
  {
   "cell_type": "markdown",
   "metadata": {},
   "source": [
    "The if statement is used to establish a condition that must be fullfilled to run a part of a code.It is necesary to add at the final of our condition which our :"
   ]
  },
  {
   "cell_type": "code",
   "execution_count": 17,
   "metadata": {},
   "outputs": [
    {
     "name": "stdout",
     "output_type": "stream",
     "text": [
      "How old are you?19\n",
      "You look younger then 19\n"
     ]
    }
   ],
   "source": [
    "age=int(input(\"How old are you?\"))\n",
    "if age <= 18:\n",
    "    print(\"You are still a baby!\")\n",
    "if age > 18:\n",
    "    print(f\"You look younger then {age}\")\n",
    "if age >= 30:\n",
    "    print(\"Your getting older\")\n"
   ]
  },
  {
   "cell_type": "markdown",
   "metadata": {},
   "source": [
    "# Else "
   ]
  },
  {
   "cell_type": "code",
   "execution_count": 4,
   "metadata": {},
   "outputs": [
    {
     "name": "stdout",
     "output_type": "stream",
     "text": [
      "a is less than b\n"
     ]
    }
   ],
   "source": [
    "a=10\n",
    "b=20\n",
    "\n",
    "if a<b:\n",
    "    print(\"a is less than b\")\n",
    "else:\n",
    "    print(\"a is greater then b\")"
   ]
  },
  {
   "cell_type": "markdown",
   "metadata": {},
   "source": [
    "# Elif"
   ]
  },
  {
   "cell_type": "markdown",
   "metadata": {},
   "source": [
    "The elif statement is used to include a second condition in case the first one isnt fullfilled"
   ]
  },
  {
   "cell_type": "code",
   "execution_count": 5,
   "metadata": {},
   "outputs": [
    {
     "name": "stdout",
     "output_type": "stream",
     "text": [
      "A is equal to B\n"
     ]
    }
   ],
   "source": [
    "a=15\n",
    "b=15\n",
    "\n",
    "if a < b:\n",
    "    print(\"A is less then B\")\n",
    "elif a > b:\n",
    "    print(\"A is greater than B\")\n",
    "else:\n",
    "    print(\"A is equal to B\")"
   ]
  },
  {
   "cell_type": "markdown",
   "metadata": {},
   "source": [
    "# Excercise"
   ]
  },
  {
   "cell_type": "code",
   "execution_count": 1,
   "metadata": {},
   "outputs": [
    {
     "name": "stdout",
     "output_type": "stream",
     "text": [
      "Computer:Hello good sir, What animal would you like to buy:A Cat(1), Dog(2), Bird(3), Or an Ari(4)?\n",
      "1\n",
      "Nice Choice\n"
     ]
    }
   ],
   "source": [
    "print(\"Computer:Hello good sir, What animal would you like to buy:A Cat(1), Dog(2), Bird(3), Or an Ari(4)?\")\n",
    "choice=int(input())\n",
    "if choice==1:\n",
    "    print(\"Nice Choice\")"
   ]
  },
  {
   "cell_type": "code",
   "execution_count": 6,
   "metadata": {},
   "outputs": [
    {
     "name": "stdout",
     "output_type": "stream",
     "text": [
      "Computer:Hello good sir, What animal would you like to buy:A Cat, Dog, Bird, Or an Ari?\n",
      "ari\n",
      "its just a joke that we sometimes do here, we call pets 'ari' sometimes, cause were in Ari-zona\n"
     ]
    }
   ],
   "source": [
    "print(\"Computer:Hello good sir, What animal would you like to buy:A Cat, Dog,or Bird?\") #please introduce the word in lower case and just the word\n",
    "choice=input()\n",
    "if choice==\"cat\":\n",
    "    print(\"Nice Choice,what race would you like, Ragdoll or Bengala?\")\n",
    "elif choice==\"dog\":\n",
    "    print(\"Nice choice everyone haves their taste,what race would you like?\")\n",
    "elif choice==\"bird\":\n",
    "    print(\"Eco friends huh, well everyone knows themselves, what specie?\")\n",
    "x=input()\n",
    "\n",
    "if choice==\"\""
   ]
  },
  {
   "cell_type": "code",
   "execution_count": 10,
   "metadata": {},
   "outputs": [
    {
     "name": "stdout",
     "output_type": "stream",
     "text": [
      "Computer:Hello there, Im gonna ask some questions to you and ill would like that you answer with just the word, now lets get on two it.\n",
      "PLEASE RESPOND TO THE ANSWERS IN LOWER CASE , AND WITH JUST THE WORD.\n",
      "Computer:Whats your favorite color: Red,Blue,Green,Orange,Black,White?\n",
      "white\n",
      "Computer:didnt expect to see someone like this color, because it seems perfect for some people.\n",
      "Computer:Now,What is your favorite animal:A Cat,Dog,or a Bird?\n",
      "bird\n",
      "Computer:Something new at least, nice choice with the nature.\n",
      "Computer:Nice, so what is your favorite state of Mexico: Chiapas,Yucatan,or the City of Mexico\n",
      "chiapas\n",
      "Computer:Got a nice taste there, its something interesting\n",
      "Now then lets get more into you,are you religious?(Just respond with yes or no)\n",
      "yes\n",
      "I hope you dont get limited to do stuff, including your career\n",
      "Hmmmm, lets see, whats your interest in icecream flavour:Chocolate,Vanilla,or Strawberry.\n",
      "vanilla\n",
      "Typical, everyone likes the flavour of vanilla\n",
      "Computer:Lets go a little deeper, any relationship you are in?(Yes or No)\n",
      "yes\n",
      "Nice,I hope your relation keeps going, not like others that breakup in 1 month\n",
      "Now leaving the previuos behind, what kinda of music do you like:Classic,Electronic or anytype\n",
      "classical\n",
      "Hmmmm,fancy\n",
      "Okay, lets see, Do you like going to the movies? \n",
      "yes\n",
      "The best place to hangout with friends or even alone, with a good movie... and Popcorns\n",
      "Okay almost finishing,Do you regret doing something in your life? \n",
      "no\n",
      "Not everyone is perfect, you must have at least 1 regret.\n",
      "Okay for the final question,DO you like someone? (If you already in a relationship dont respond,okay?)\n",
      "\n",
      "Okay were done with every question i was curious about, thanks for staying around with me, See you next time. :D\n"
     ]
    }
   ],
   "source": [
    "print(\"Computer:Hello there, Im gonna ask some questions to you and ill would like that you answer with just the word, now lets get on two it.\")\n",
    "print(\"PLEASE RESPOND TO THE ANSWERS IN LOWER CASE , AND WITH JUST THE WORD.\")\n",
    "print(\"Computer:Whats your favorite color: Red,Blue,Green,Orange,Black,White?\")\n",
    "x=input()\n",
    "if x==\"red\":\n",
    "    print(\"Computer:A vibrant color, interesting.\")\n",
    "elif x==\"blue\":\n",
    "    print(\"Computer:you seem to like a calm person\")\n",
    "elif x==\"green\":\n",
    "    print(\"Computer:Your in to nature, I think\")\n",
    "elif x==\"orange\":\n",
    "    print(\"Computer:I think your more of a seasonal person\")\n",
    "elif x==\"black\":\n",
    "    print(\"Computer:you seem to get away from radiant people\")\n",
    "elif x==\"white\":\n",
    "    print(\"Computer:didnt expect to see someone like this color, because it seems perfect for some people.\")\n",
    "\n",
    "print(\"Computer:Now,What is your favorite animal:A Cat,Dog,or a Bird?\")\n",
    "y=input()\n",
    "if y==\"cat\":\n",
    "    print(\"Computer:you seem to be a cat person.\")\n",
    "elif y==\"dog\":\n",
    "    print(\"Computer:you seem to be a dog person\")\n",
    "elif y==\"bird\":\n",
    "    print(\"Computer:Something new at least, nice choice with the nature.\")\n",
    "    \n",
    "print(\"Computer:Nice, so what is your favorite state of Mexico: Chiapas,Yucatan,or the City of Mexico\")\n",
    "z=input()\n",
    "if z==\"chiapas\":\n",
    "    print(\"Computer:Got a nice taste there, its something interesting\")\n",
    "elif z==\"yucatan\":\n",
    "    print(\"Computer:you seem to really love the nature and culture\")\n",
    "elif z==\"the city of mexico\":\n",
    "    print(\"Computer:Huh,your really into society\")\n",
    "\n",
    "print(\"Now then lets get more into you,are you religious?(Just respond with yes or no)\") #just respond with yes or no\n",
    "a=input()\n",
    "if a==\"yes\":\n",
    "    print(\"I hope you dont get limited to do stuff, including your career\")\n",
    "elif a==\"no\":\n",
    "    print(\"You seem to be almost free to do.\")\n",
    "    \n",
    "print(\"Hmmmm, lets see, whats your interest in icecream flavour:Chocolate,Vanilla,or Strawberry.\")\n",
    "b=input()\n",
    "if b==\"chocolate\":\n",
    "    print(\"Most likely, everyone likes vanilla, but go to a new flavour\")\n",
    "elif b==\"vanilla\":\n",
    "    print(\"Typical, everyone likes the flavour of vanilla\")\n",
    "elif b==\"strawberry\":\n",
    "    print(\"Hmmm, thats interesting, you like sugar flavour I see.\")\n",
    "    \n",
    "print(\"Computer:Lets go a little deeper, any relationship you are in?(Yes or No)\")\n",
    "c=input()\n",
    "if c==\"yes\":\n",
    "    print(\"Nice,I hope your relation keeps going, not like others that breakup in 1 month\")\n",
    "elif c==\"no\":\n",
    "    print(\"You seem lucky without having to deal with all the relationship stuff.\")\n",
    "    \n",
    "print(\"Now leaving the previuos behind, what kinda of music do you like:Classic,Electronic or anytype\")\n",
    "d=input()\n",
    "if d==\"classical\":\n",
    "    print(\"Hmmmm,fancy\")\n",
    "elif d==\"electronic\":\n",
    "    print(\"you seems to be very alive\")\n",
    "elif d==\"anytype\":\n",
    "    print(\"Woah taking it to a new direction, but i know there are some deslikes on some songs\")\n",
    "\n",
    "print(\"Okay, lets see, Do you like going to the movies? \")\n",
    "e=input()\n",
    "if e==\"yes\":\n",
    "    print(\"The best place to hangout with friends or even alone, with a good movie... and Popcorns\")\n",
    "elif e==\"no\":\n",
    "    print(\"Well, theres got to be reasons why ya not like it.\")\n",
    "\n",
    "print(\"Okay almost finishing,Do you regret doing something in your life? \")\n",
    "f=input()\n",
    "if f==\"yes\":\n",
    "    print(\"Well, its better learning from those regrets then trying to hide them\")\n",
    "elif f==\"no\":\n",
    "    print(\"Not everyone is perfect, you must have at least 1 regret.\")\n",
    "\n",
    "print(\"Okay for the final question,DO you like someone? (If you already in a relationship dont respond,okay?)\")\n",
    "g=input()\n",
    "if g==\"yes\":\n",
    "    print(\"I hope its someone special because if it isnt, your going to have a bad time buddy.\")\n",
    "    \n",
    "print(\"Okay were done with every question i was curious about, thanks for staying around with me, See you next time. :D\")\n",
    "\n"
   ]
  },
  {
   "cell_type": "code",
   "execution_count": null,
   "metadata": {},
   "outputs": [],
   "source": []
  }
 ],
 "metadata": {
  "kernelspec": {
   "display_name": "Python 3",
   "language": "python",
   "name": "python3"
  },
  "language_info": {
   "codemirror_mode": {
    "name": "ipython",
    "version": 3
   },
   "file_extension": ".py",
   "mimetype": "text/x-python",
   "name": "python",
   "nbconvert_exporter": "python",
   "pygments_lexer": "ipython3",
   "version": "3.7.4"
  }
 },
 "nbformat": 4,
 "nbformat_minor": 2
}
